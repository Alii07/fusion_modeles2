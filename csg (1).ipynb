{
 "cells": [
  {
   "cell_type": "code",
   "execution_count": 17,
   "id": "0d4fdad8-33e0-4b14-98bc-96ecd161ed6e",
   "metadata": {},
   "outputs": [
    {
     "name": "stdout",
     "output_type": "stream",
     "text": [
      "Précision du modèle sur les données de test : 100.00%\n",
      "Rapport de classification :\n",
      "               precision    recall  f1-score   support\n",
      "\n",
      "           0       1.00      1.00      1.00     87607\n",
      "           1       1.00      1.00      1.00      9528\n",
      "\n",
      "    accuracy                           1.00     97135\n",
      "   macro avg       1.00      1.00      1.00     97135\n",
      "weighted avg       1.00      1.00      1.00     97135\n",
      "\n"
     ]
    }
   ],
   "source": [
    "import pandas as pd\n",
    "import numpy as np\n",
    "from sklearn.model_selection import train_test_split\n",
    "from sklearn.ensemble import RandomForestClassifier\n",
    "from sklearn.metrics import accuracy_score, classification_report\n",
    "from sklearn.preprocessing import LabelEncoder\n",
    "\n",
    "# 1. Charger la base de données\n",
    "df = pd.read_csv('base_anomalies_6082.csv')\n",
    "\n",
    "# 2. Sélectionner les colonnes pertinentes\n",
    "features = ['Statut de salariés', 'Frontalier', 'Rub 6082', '6082Taux']\n",
    "target = 'anomalie_csg'\n",
    "\n",
    "# 3. Convertir les variables catégorielles en numériques (Statut de salariés, Frontalier)\n",
    "label_encoder_statut = LabelEncoder()\n",
    "label_encoder_frontalier = LabelEncoder()\n",
    "\n",
    "df['Statut de salariés'] = label_encoder_statut.fit_transform(df['Statut de salariés'])\n",
    "df['Frontalier'] = label_encoder_frontalier.fit_transform(df['Frontalier'])\n",
    "\n",
    "# 4. Préparer les données pour le modèle\n",
    "X = df[features]\n",
    "y = df[target]\n",
    "\n",
    "# 5. Diviser les données en ensembles d'entraînement et de test\n",
    "X_train, X_test, y_train, y_test = train_test_split(X, y, test_size=0.3, random_state=42)\n",
    "\n",
    "# 6. Créer et entraîner le modèle RandomForestClassifier\n",
    "rf_classifier = RandomForestClassifier(n_estimators=100, random_state=42)\n",
    "rf_classifier.fit(X_train, y_train)\n",
    "\n",
    "# 7. Faire des prédictions sur les données de test\n",
    "y_pred = rf_classifier.predict(X_test)\n",
    "\n",
    "# 8. Évaluer la performance du modèle\n",
    "accuracy = accuracy_score(y_test, y_pred)\n",
    "print(\"Précision du modèle sur les données de test : {:.2f}%\".format(accuracy * 100))\n",
    "\n",
    "# Rapport de classification pour plus de détails\n",
    "print(\"Rapport de classification :\\n\", classification_report(y_test, y_pred))\n"
   ]
  },
  {
   "cell_type": "code",
   "execution_count": 19,
   "id": "5b733613-bc79-46e0-9654-aa9a63a472cc",
   "metadata": {},
   "outputs": [
    {
     "data": {
      "text/plain": [
       "['random_forest_model_6082.pkl']"
      ]
     },
     "execution_count": 19,
     "metadata": {},
     "output_type": "execute_result"
    }
   ],
   "source": [
    "import joblib\n",
    "\n",
    "# Exporter le modèle Random Forest entraîné\n",
    "joblib.dump(rf_classifier, 'random_forest_model_6082.pkl')\n"
   ]
  },
  {
   "cell_type": "code",
   "execution_count": 27,
   "id": "b2268371-0d86-4569-a0f3-a4a256e5fb2d",
   "metadata": {},
   "outputs": [
    {
     "name": "stdout",
     "output_type": "stream",
     "text": [
      "Prédictions ajoutées à la nouvelle base de données.\n"
     ]
    },
    {
     "name": "stderr",
     "output_type": "stream",
     "text": [
      "C:\\Users\\ouiss\\AppData\\Local\\Temp\\ipykernel_7932\\275050220.py:19: SettingWithCopyWarning: \n",
      "A value is trying to be set on a copy of a slice from a DataFrame.\n",
      "Try using .loc[row_indexer,col_indexer] = value instead\n",
      "\n",
      "See the caveats in the documentation: https://pandas.pydata.org/pandas-docs/stable/user_guide/indexing.html#returning-a-view-versus-a-copy\n",
      "  features_new['Statut de salariés'] = label_encoder_statut.fit_transform(features_new['Statut de salariés'])\n",
      "C:\\Users\\ouiss\\AppData\\Local\\Temp\\ipykernel_7932\\275050220.py:20: SettingWithCopyWarning: \n",
      "A value is trying to be set on a copy of a slice from a DataFrame.\n",
      "Try using .loc[row_indexer,col_indexer] = value instead\n",
      "\n",
      "See the caveats in the documentation: https://pandas.pydata.org/pandas-docs/stable/user_guide/indexing.html#returning-a-view-versus-a-copy\n",
      "  features_new['Frontalier'] = label_encoder_frontalier.fit_transform(features_new['Frontalier'])\n"
     ]
    }
   ],
   "source": [
    "import pandas as pd\n",
    "import joblib\n",
    "\n",
    "# 1. Charger le modèle entraîné\n",
    "rf_classifier_loaded = joblib.load('random_forest_model_6082.pkl')\n",
    "\n",
    "# 2. Charger la nouvelle base de données (sans la colonne 'anomalie_csg')\n",
    "new_df = pd.read_csv('new_updated_file 2.csv')\n",
    "\n",
    "# 3. Sélectionner les mêmes colonnes que celles utilisées pour l'entraînement\n",
    "features_new = new_df[['Statut de salariés', 'Frontalier', 'Rub 6082', '6082Taux']]\n",
    "\n",
    "# 4. Encodage des variables catégorielles (Statut de salariés, Frontalier)\n",
    "# Vous devez utiliser les mêmes encodeurs que ceux utilisés lors de l'entraînement\n",
    "label_encoder_statut = LabelEncoder()\n",
    "label_encoder_frontalier = LabelEncoder()\n",
    "\n",
    "# Encodage des variables catégorielles dans la nouvelle base\n",
    "features_new['Statut de salariés'] = label_encoder_statut.fit_transform(features_new['Statut de salariés'])\n",
    "features_new['Frontalier'] = label_encoder_frontalier.fit_transform(features_new['Frontalier'])\n",
    "\n",
    "# 5. Vérifier que le nombre de colonnes correspond bien à celles utilisées pour l'entraînement\n",
    "# Si certaines colonnes manquent (cas rare), on les ajoute avec des valeurs par défaut\n",
    "missing_cols = set(X.columns) - set(features_new.columns)  # 'X' ici représente les colonnes d'entraînement\n",
    "for c in missing_cols:\n",
    "    features_new[c] = 0  # Ajouter des colonnes manquantes avec une valeur par défaut\n",
    "\n",
    "# 6. Réarranger les colonnes dans le même ordre que lors de l'entraînement\n",
    "features_new = features_new[X.columns]\n",
    "\n",
    "# 7. Utiliser le modèle pour prédire les anomalies sur la nouvelle base\n",
    "predictions = rf_classifier_loaded.predict(features_new)\n",
    "\n",
    "# 8. Ajouter la colonne 'anomalie_predite' pour indiquer les prédictions faites par le modèle\n",
    "new_df['anomalie_predite'] = predictions\n",
    "\n",
    "# 9. Sauvegarder la nouvelle base de données avec les prédictions\n",
    "new_df.to_csv('nouvelle_base_avec_predictions.csv', index=False)\n",
    "\n",
    "print(\"Prédictions ajoutées à la nouvelle base de données.\")\n"
   ]
  },
  {
   "cell_type": "code",
   "execution_count": 15,
   "id": "0461b112-0ce8-4af7-8476-a7abe62e5832",
   "metadata": {},
   "outputs": [
    {
     "name": "stdout",
     "output_type": "stream",
     "text": [
      "Les prédictions d'anomalies ont été ajoutées et la base de données a été sauvegardée.\n"
     ]
    }
   ],
   "source": [
    "import pandas as pd\n",
    "import joblib\n",
    "\n",
    "# 1. Charger la nouvelle base de données\n",
    "df_nouveau = pd.read_csv('base_anomalies_csg.csv')\n",
    "\n",
    "# 2. Sélectionner les mêmes colonnes de caractéristiques que pour l'entraînement\n",
    "features = ['Statut de salariés', 'Frontalier', 'Rub 6082', '6082Taux']\n",
    "\n",
    "# 3. Convertir les variables catégorielles en numériques (Statut de salariés, Frontalier)\n",
    "# Utiliser les mêmes encodeurs que pour l'entraînement\n",
    "df_nouveau['Statut de salariés'] = label_encoder_statut.transform(df_nouveau['Statut de salariés'])\n",
    "df_nouveau['Frontalier'] = label_encoder_frontalier.transform(df_nouveau['Frontalier'])\n",
    "\n",
    "# 4. Préparer les données pour la prédiction\n",
    "X_nouveau = df_nouveau[features]\n",
    "\n",
    "# 5. Charger le modèle Random Forest précédemment entraîné\n",
    "rf_classifier = joblib.load('random_forest_model_6082.pkl')\n",
    "\n",
    "# 6. Faire des prédictions sur la nouvelle base de données\n",
    "predictions = rf_classifier.predict(X_nouveau)\n",
    "\n",
    "# 7. Ajouter les prédictions à la base de données\n",
    "df_nouveau['anomalie_predite'] = predictions\n",
    "\n",
    "# 8. Sauvegarder la base de données avec les prédictions\n",
    "df_nouveau.to_csv('nouvelle_base_avec_anomalies.csv', index=False)\n",
    "\n",
    "print(\"Les prédictions d'anomalies ont été ajoutées et la base de données a été sauvegardée.\")\n"
   ]
  },
  {
   "cell_type": "code",
   "execution_count": 38,
   "id": "9ccae49c-da74-46d6-881c-266dd03eaf25",
   "metadata": {},
   "outputs": [],
   "source": [
    "import pandas as pd\n",
    "import numpy as np\n",
    "\n",
    "# 1. Charger la base de données existante\n",
    "df = pd.read_csv('new_updated_file 2.csv')\n",
    "\n",
    "# 2. Définir le taux d'anomalies (par exemple 10 % des lignes)\n",
    "taux_anomalie = 0.10  # 10 % d'anomalies\n",
    "\n",
    "# 3. Sélectionner aléatoirement un certain pourcentage de lignes pour introduire des anomalies\n",
    "n_lignes = df.shape[0]\n",
    "n_anomalies = int(taux_anomalie * n_lignes)\n",
    "\n",
    "# 4. Sélectionner des indices aléatoires distincts pour les anomalies\n",
    "indices_anomalies_csg = np.random.choice(df.index, size=n_anomalies, replace=False)\n",
    "\n",
    "# 5. Ajouter une colonne pour marquer les anomalies\n",
    "df['anomalie_csg'] = 0  # Initialement, aucune anomalie\n",
    "\n",
    "# 6. Fonction pour générer un taux aléatoire erroné, arrondi à 2 décimales\n",
    "def generer_taux_errone(eliminer_valeur=None, valeur_max=10):\n",
    "    taux_errone = round(np.random.uniform(0, valeur_max), 2)  # Choisissez une plage appropriée et arrondissez\n",
    "    while eliminer_valeur is not None and taux_errone == eliminer_valeur:\n",
    "        taux_errone = round(np.random.uniform(0, valeur_max), 2)  # Générer jusqu'à ce ne soit pas la valeur à éliminer\n",
    "    return taux_errone\n",
    "\n",
    "# 7. Fonction pour introduire des anomalies dans la cotisation CSG\n",
    "def introduire_anomalie_csg(row):\n",
    "    frontalier = row['Frontalier']\n",
    "    statut = row['Statut de salariés']\n",
    "\n",
    "    # Conditions d'anomalie\n",
    "    if frontalier == 'Frontaliers' and statut == 'Stagiaire':\n",
    "        # Taux correct est 0%, générer un taux erroné\n",
    "        row['6082Taux'] = generer_taux_errone(eliminer_valeur=0)\n",
    "        row['anomalie_csg'] = 1\n",
    "    elif frontalier == 'Frontaliers' and statut != 'Stagiaire':\n",
    "        # Taux correct est 0%, générer un taux erroné\n",
    "        row['6082Taux'] = generer_taux_errone(eliminer_valeur=0)\n",
    "        row['anomalie_csg'] = 1\n",
    "    elif frontalier == 'Non' and statut == 'Stagiaire':\n",
    "        # Taux correct est 0%, générer un taux erroné\n",
    "        row['6082Taux'] = generer_taux_errone(eliminer_valeur=0)\n",
    "        row['anomalie_csg'] = 1\n",
    "    elif frontalier == 'Non' and statut != 'Stagiaire':\n",
    "        # Taux correct est 6.8%, générer un taux erroné\n",
    "        row['6082Taux'] = generer_taux_errone(eliminer_valeur=6.8)\n",
    "        row['anomalie_csg'] = 1\n",
    "\n",
    "    return row\n",
    "\n",
    "# 8. Appliquer la fonction d'anomalie uniquement sur les lignes sélectionnées\n",
    "df.loc[indices_anomalies_csg, :] = df.loc[indices_anomalies_csg, :].apply(introduire_anomalie_csg, axis=1)\n",
    "\n",
    "# 9. Sauvegarder la nouvelle base de données avec anomalies\n",
    "df.to_csv('base_anomalies_csg.csv', index=False)\n",
    "\n",
    "# Optionnel : Afficher un résumé des anomalies introduites\n",
    "#total_anomalies_csg = df['anomalie_csg'].sum()\n",
    "#print(f\"Total des anomalies introduites pour la cotisation CSG : {total_anomalies_csg} sur {n_lignes} lignes ({(total_anomalies_csg/n_lignes)*100:.2f}%)\")\n"
   ]
  },
  {
   "cell_type": "markdown",
   "id": "d5b05a1d-b84a-4ac9-967f-e57f59bebe7d",
   "metadata": {},
   "source": [
    "test"
   ]
  },
  {
   "cell_type": "code",
   "execution_count": 30,
   "id": "02f28b2b-8258-4ac9-ae1c-537c0f7bafdd",
   "metadata": {},
   "outputs": [
    {
     "name": "stdout",
     "output_type": "stream",
     "text": [
      "Précision du modèle sur les données de test : 100.00%\n",
      "Rapport de classification :\n",
      "               precision    recall  f1-score   support\n",
      "\n",
      "           0       1.00      1.00      1.00     87607\n",
      "           1       1.00      1.00      1.00      9528\n",
      "\n",
      "    accuracy                           1.00     97135\n",
      "   macro avg       1.00      1.00      1.00     97135\n",
      "weighted avg       1.00      1.00      1.00     97135\n",
      "\n"
     ]
    }
   ],
   "source": [
    "import pandas as pd\n",
    "import numpy as np\n",
    "from sklearn.model_selection import train_test_split\n",
    "from sklearn.ensemble import RandomForestClassifier\n",
    "from sklearn.metrics import accuracy_score, classification_report\n",
    "from sklearn.preprocessing import LabelEncoder\n",
    "import joblib\n",
    "\n",
    "# 1. Charger la base de données\n",
    "df = pd.read_csv('base_anomalies_6082.csv')\n",
    "\n",
    "# 2. Sélectionner les colonnes pertinentes\n",
    "features = ['Statut de salariés', 'Frontalier', 'Rub 6082', '6082Taux']\n",
    "target = 'anomalie_csg'\n",
    "\n",
    "# 3. Convertir les variables catégorielles en numériques (Statut de salariés, Frontalier)\n",
    "label_encoder_statut = LabelEncoder()\n",
    "df['Statut de salariés'] = label_encoder_statut.fit_transform(df['Statut de salariés'])\n",
    "\n",
    "label_encoder_frontalier = LabelEncoder()\n",
    "df['Frontalier'] = label_encoder_frontalier.fit_transform(df['Frontalier'])\n",
    "\n",
    "# Sauvegarder les encodeurs\n",
    "joblib.dump(label_encoder_statut, 'label_encoder_statut.pkl')\n",
    "joblib.dump(label_encoder_frontalier, 'label_encoder_frontalier.pkl')\n",
    "\n",
    "# 4. Préparer les données pour le modèle\n",
    "X = df[features]\n",
    "y = df[target]\n",
    "\n",
    "# 5. Diviser les données en ensembles d'entraînement et de test\n",
    "X_train, X_test, y_train, y_test = train_test_split(X, y, test_size=0.3, random_state=42)\n",
    "\n",
    "# 6. Créer et entraîner le modèle RandomForestClassifier\n",
    "rf_classifier = RandomForestClassifier(n_estimators=100, random_state=42)\n",
    "rf_classifier.fit(X_train, y_train)\n",
    "\n",
    "# 7. Faire des prédictions sur les données de test\n",
    "y_pred = rf_classifier.predict(X_test)\n",
    "\n",
    "# 8. Évaluer la performance du modèle\n",
    "accuracy = accuracy_score(y_test, y_pred)\n",
    "print(\"Précision du modèle sur les données de test : {:.2f}%\".format(accuracy * 100))\n",
    "\n",
    "# Rapport de classification pour plus de détails\n",
    "print(\"Rapport de classification :\\n\", classification_report(y_test, y_pred))\n"
   ]
  },
  {
   "cell_type": "code",
   "execution_count": 32,
   "id": "dac46bb0-33b3-41cd-98fc-c4db28eaf827",
   "metadata": {},
   "outputs": [
    {
     "data": {
      "text/plain": [
       "['random_forest_model_6082_new.pkl']"
      ]
     },
     "execution_count": 32,
     "metadata": {},
     "output_type": "execute_result"
    }
   ],
   "source": [
    "import joblib\n",
    "\n",
    "# Exporter le modèle Random Forest entraîné\n",
    "joblib.dump(rf_classifier, 'random_forest_model_6082_new.pkl')"
   ]
  },
  {
   "cell_type": "code",
   "execution_count": 40,
   "id": "35d988af-6d60-4739-a872-8e45ee87871f",
   "metadata": {},
   "outputs": [
    {
     "name": "stdout",
     "output_type": "stream",
     "text": [
      "Prédictions ajoutées à la nouvelle base de données.\n"
     ]
    },
    {
     "name": "stderr",
     "output_type": "stream",
     "text": [
      "C:\\Users\\ouiss\\AppData\\Local\\Temp\\ipykernel_7932\\1291690022.py:18: SettingWithCopyWarning: \n",
      "A value is trying to be set on a copy of a slice from a DataFrame.\n",
      "Try using .loc[row_indexer,col_indexer] = value instead\n",
      "\n",
      "See the caveats in the documentation: https://pandas.pydata.org/pandas-docs/stable/user_guide/indexing.html#returning-a-view-versus-a-copy\n",
      "  features_new['Statut de salariés'] = label_encoder_statut.transform(features_new['Statut de salariés'])\n",
      "C:\\Users\\ouiss\\AppData\\Local\\Temp\\ipykernel_7932\\1291690022.py:19: SettingWithCopyWarning: \n",
      "A value is trying to be set on a copy of a slice from a DataFrame.\n",
      "Try using .loc[row_indexer,col_indexer] = value instead\n",
      "\n",
      "See the caveats in the documentation: https://pandas.pydata.org/pandas-docs/stable/user_guide/indexing.html#returning-a-view-versus-a-copy\n",
      "  features_new['Frontalier'] = label_encoder_frontalier.transform(features_new['Frontalier'])\n"
     ]
    }
   ],
   "source": [
    "import pandas as pd\n",
    "import joblib\n",
    "\n",
    "# 1. Charger le modèle entraîné\n",
    "rf_classifier_loaded = joblib.load('random_forest_model_6082_new.pkl')\n",
    "\n",
    "# 2. Charger la nouvelle base de données (sans la colonne 'anomalie_csg')\n",
    "new_df = pd.read_csv('base_anomalies_csg.csv')\n",
    "\n",
    "# 3. Charger les encodeurs\n",
    "label_encoder_statut = joblib.load('label_encoder_statut.pkl')\n",
    "label_encoder_frontalier = joblib.load('label_encoder_frontalier.pkl')\n",
    "\n",
    "# 4. Sélectionner les mêmes colonnes que celles utilisées pour l'entraînement\n",
    "features_new = new_df[['Statut de salariés', 'Frontalier', 'Rub 6082', '6082Taux']]\n",
    "\n",
    "# 5. Encodage des variables catégorielles (Statut de salariés, Frontalier)\n",
    "features_new['Statut de salariés'] = label_encoder_statut.transform(features_new['Statut de salariés'])\n",
    "features_new['Frontalier'] = label_encoder_frontalier.transform(features_new['Frontalier'])\n",
    "\n",
    "# 6. Vérifier que le nombre de colonnes correspond bien à celles utilisées pour l'entraînement\n",
    "# Si certaines colonnes manquent (cas rare), on les ajoute avec des valeurs par défaut\n",
    "missing_cols = set(X.columns) - set(features_new.columns)  # 'X' ici représente les colonnes d'entraînement\n",
    "for c in missing_cols:\n",
    "    features_new[c] = 0  # Ajouter des colonnes manquantes avec une valeur par défaut\n",
    "\n",
    "# 7. Réarranger les colonnes dans le même ordre que lors de l'entraînement\n",
    "features_new = features_new[X.columns]\n",
    "\n",
    "# 8. Utiliser le modèle pour prédire les anomalies sur la nouvelle base\n",
    "predictions = rf_classifier_loaded.predict(features_new)\n",
    "\n",
    "# 9. Ajouter la colonne 'anomalie_predite' pour indiquer les prédictions faites par le modèle\n",
    "new_df['anomalie_predite'] = predictions\n",
    "\n",
    "# 10. Sauvegarder la nouvelle base de données avec les prédictions\n",
    "new_df.to_csv('nouvelle_base_avec_predictions.csv', index=False)\n",
    "\n",
    "print(\"Prédictions ajoutées à la nouvelle base de données.\")\n",
    "\n"
   ]
  },
  {
   "cell_type": "code",
   "execution_count": null,
   "id": "87f69bbd-825d-471b-b23d-85e0aa5e1c13",
   "metadata": {},
   "outputs": [],
   "source": []
  }
 ],
 "metadata": {
  "kernelspec": {
   "display_name": "Python 3 (ipykernel)",
   "language": "python",
   "name": "python3"
  },
  "language_info": {
   "codemirror_mode": {
    "name": "ipython",
    "version": 3
   },
   "file_extension": ".py",
   "mimetype": "text/x-python",
   "name": "python",
   "nbconvert_exporter": "python",
   "pygments_lexer": "ipython3",
   "version": "3.12.4"
  }
 },
 "nbformat": 4,
 "nbformat_minor": 5
}
